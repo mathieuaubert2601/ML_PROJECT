{
 "cells": [
  {
   "cell_type": "code",
   "execution_count": null,
   "metadata": {},
   "outputs": [],
   "source": [
    "import pandas as pd\n",
    "import numpy as np\n",
    "from sklearn.model_selection import train_test_split\n",
    "from sklearn.preprocessing import StandardScaler, LabelEncoder\n",
    "from sklearn.neighbors import KNeighborsClassifier\n",
    "\n",
    "# Charger les données\n",
    "train_data = pd.read_csv('train.csv')\n",
    "test_data = pd.read_csv('test.csv')\n",
    "\n",
    "# Préparer les données\n",
    "# Supprimer des colonnes inutiles\n",
    "columns_to_drop = ['Name', 'Ticket', 'Cabin']  # Peu utiles pour le KNN\n",
    "train_data = train_data.drop(columns=columns_to_drop)\n",
    "test_data = test_data.drop(columns=columns_to_drop)\n",
    "\n",
    "# Gérer les valeurs manquantes\n",
    "train_data['Age'].fillna(train_data['Age'].median(), inplace=True)\n",
    "test_data['Age'].fillna(test_data['Age'].median(), inplace=True)\n",
    "test_data['Fare'].fillna(test_data['Fare'].median(), inplace=True)\n",
    "\n",
    "# Encoder les colonnes catégoriques\n",
    "encoder = LabelEncoder()\n",
    "train_data['Sex'] = encoder.fit_transform(train_data['Sex'])\n",
    "test_data['Sex'] = encoder.transform(test_data['Sex'])\n",
    "\n",
    "train_data['Embarked'] = encoder.fit_transform(train_data['Embarked'].astype(str))\n",
    "test_data['Embarked'] = encoder.transform(test_data['Embarked'].astype(str))\n",
    "\n",
    "# Séparer les features et la cible\n",
    "X = train_data.drop(columns=['Survived', 'PassengerId'])\n",
    "y = train_data['Survived']\n",
    "X_test = test_data.drop(columns=['PassengerId'])\n",
    "passenger_ids = test_data['PassengerId']\n",
    "\n",
    "# Normaliser les données\n",
    "scaler = StandardScaler()\n",
    "X = scaler.fit_transform(X)\n",
    "X_test = scaler.transform(X_test)\n",
    "\n",
    "# Diviser les données d'entraînement pour validation\n",
    "X_train, X_val, y_train, y_val = train_test_split(X, y, test_size=0.2, random_state=42)\n",
    "\n",
    "# Entraîner le modèle KNN\n",
    "knn = KNeighborsClassifier(n_neighbors=5)\n",
    "knn.fit(X_train, y_train)\n",
    "\n",
    "# Évaluer sur les données de validation\n",
    "score = knn.score(X_val, y_val)\n",
    "print(f'Accuracy on validation set: {score:.2f}')\n",
    "\n",
    "# Prédire sur les données de test\n",
    "predictions = knn.predict(X_test)\n",
    "\n",
    "# Sauvegarder les prédictions\n",
    "output = pd.DataFrame({\n",
    "    'PassengerId': passenger_ids,\n",
    "    'Survived': predictions\n",
    "})\n",
    "output.to_csv('submission.csv', index=False)\n",
    "print(\"Fichier submission.csv créé avec succès.\")\n"
   ]
  },
  {
   "cell_type": "code",
   "execution_count": null,
   "metadata": {},
   "outputs": [],
   "source": []
  },
  {
   "cell_type": "code",
   "execution_count": null,
   "metadata": {},
   "outputs": [],
   "source": []
  },
  {
   "cell_type": "code",
   "execution_count": null,
   "metadata": {},
   "outputs": [],
   "source": []
  },
  {
   "cell_type": "code",
   "execution_count": null,
   "metadata": {},
   "outputs": [],
   "source": []
  },
  {
   "cell_type": "code",
   "execution_count": null,
   "metadata": {},
   "outputs": [],
   "source": []
  },
  {
   "cell_type": "code",
   "execution_count": null,
   "metadata": {},
   "outputs": [],
   "source": []
  }
 ],
 "metadata": {
  "kernelspec": {
   "display_name": "Python 3",
   "language": "python",
   "name": "python3"
  },
  "language_info": {
   "name": "python",
   "version": "3.10.11"
  }
 },
 "nbformat": 4,
 "nbformat_minor": 2
}
