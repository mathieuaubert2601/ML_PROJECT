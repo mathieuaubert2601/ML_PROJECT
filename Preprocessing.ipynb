{
 "cells": [
  {
   "cell_type": "code",
   "execution_count": 79,
   "metadata": {},
   "outputs": [],
   "source": [
    "import pandas as pd \n",
    "from sklearn.preprocessing import LabelEncoder,StandardScaler,MinMaxScaler"
   ]
  },
  {
   "cell_type": "code",
   "execution_count": 80,
   "metadata": {},
   "outputs": [],
   "source": [
    "df_train = pd.read_csv(\"train.csv\")\n",
    "X_train = df_train.drop(['Survived'],axis=1)\n",
    "X_test = pd.read_csv(\"test.csv\")\n",
    "y_train  = df_train['Survived']"
   ]
  },
  {
   "cell_type": "code",
   "execution_count": 81,
   "metadata": {},
   "outputs": [
    {
     "name": "stdout",
     "output_type": "stream",
     "text": [
      "0\n",
      "0\n"
     ]
    }
   ],
   "source": [
    "print(X_train.duplicated().sum())\n",
    "print(X_test.duplicated().sum())"
   ]
  },
  {
   "cell_type": "code",
   "execution_count": 82,
   "metadata": {},
   "outputs": [
    {
     "name": "stdout",
     "output_type": "stream",
     "text": [
      "PassengerId      0\n",
      "Pclass           0\n",
      "Name             0\n",
      "Sex              0\n",
      "Age            177\n",
      "SibSp            0\n",
      "Parch            0\n",
      "Ticket           0\n",
      "Fare             0\n",
      "Cabin          687\n",
      "Embarked         2\n",
      "dtype: int64\n",
      "\n",
      "\n",
      "\n",
      "PassengerId      0\n",
      "Pclass           0\n",
      "Name             0\n",
      "Sex              0\n",
      "Age             86\n",
      "SibSp            0\n",
      "Parch            0\n",
      "Ticket           0\n",
      "Fare             1\n",
      "Cabin          327\n",
      "Embarked         0\n",
      "dtype: int64\n"
     ]
    }
   ],
   "source": [
    "print(X_train.isnull().sum())\n",
    "print(\"\\n\\n\")\n",
    "print(X_test.isnull().sum())"
   ]
  },
  {
   "cell_type": "code",
   "execution_count": 83,
   "metadata": {},
   "outputs": [
    {
     "data": {
      "text/plain": [
       "891"
      ]
     },
     "execution_count": 83,
     "metadata": {},
     "output_type": "execute_result"
    }
   ],
   "source": [
    "df_train.shape[0]"
   ]
  },
  {
   "cell_type": "code",
   "execution_count": 84,
   "metadata": {},
   "outputs": [],
   "source": [
    "X_train['Age'] = X_train['Age'].fillna(X_train['Age'].median())\n",
    "X_test['Age'] = X_test['Age'].fillna(X_train['Age'].median())"
   ]
  },
  {
   "cell_type": "code",
   "execution_count": 85,
   "metadata": {},
   "outputs": [],
   "source": [
    "X_train['Embarked'] = X_train['Embarked'].fillna(X_train['Embarked'].mode()[0])\n",
    "X_test['Embarked'] = X_test['Embarked'].fillna(X_train['Embarked'].mode()[0])"
   ]
  },
  {
   "cell_type": "code",
   "execution_count": 86,
   "metadata": {},
   "outputs": [],
   "source": [
    "X_train['Fare'] = X_train['Fare'].fillna(X_train['Fare'].mean())\n",
    "X_test['Fare'] = X_test['Fare'].fillna(X_train['Fare'].mean())"
   ]
  },
  {
   "cell_type": "code",
   "execution_count": 87,
   "metadata": {},
   "outputs": [],
   "source": [
    "X_train = X_train.drop(columns=[\"Cabin\",\"Ticket\",\"Name\"])\n",
    "X_test = X_test.drop(columns=[\"Cabin\",\"Ticket\",\"Name\"])"
   ]
  },
  {
   "cell_type": "code",
   "execution_count": 88,
   "metadata": {},
   "outputs": [],
   "source": [
    "encoder_sex = LabelEncoder()\n",
    "X_train['Sex'] = encoder_sex.fit_transform(X_train['Sex'])\n",
    "X_test['Sex'] = encoder_sex.transform(X_test['Sex'])\n",
    "\n",
    "encoder_embarked = LabelEncoder()\n",
    "X_train['Embarked'] = encoder_embarked.fit_transform(X_train['Embarked'])\n",
    "X_test['Embarked'] = encoder_embarked.transform(X_test['Embarked'])"
   ]
  },
  {
   "cell_type": "code",
   "execution_count": 89,
   "metadata": {},
   "outputs": [],
   "source": [
    "scalerPclass = MinMaxScaler()\n",
    "X_train['Pclass'] = scalerPclass.fit_transform(X_train[['Pclass']])\n",
    "X_test['Pclass'] = scalerPclass.transform(X_test[['Pclass']])\n",
    "\n",
    "scalerAge = MinMaxScaler()\n",
    "X_train['Age'] = scalerAge.fit_transform(X_train[['Age']])\n",
    "X_test['Age'] = scalerAge.transform(X_test[['Age']])\n",
    "\n",
    "scalerSibSp = MinMaxScaler()\n",
    "X_train['SibSp'] = scalerSibSp.fit_transform(X_train[['SibSp']])\n",
    "X_test['SibSp'] = scalerSibSp.transform(X_test[['SibSp']])\n",
    "\n",
    "scalerParch = MinMaxScaler()\n",
    "X_train['Parch'] = scalerParch.fit_transform(X_train[['Parch']])\n",
    "X_test['Parch'] = scalerParch.transform(X_test[['Parch']])\n",
    "\n",
    "scalerFare = MinMaxScaler()\n",
    "X_train['Fare'] = scalerFare.fit_transform(X_train[['Fare']])\n",
    "X_test['Fare'] = scalerFare.transform(X_test[['Fare']])"
   ]
  },
  {
   "cell_type": "code",
   "execution_count": 90,
   "metadata": {},
   "outputs": [],
   "source": [
    "X_train.to_csv('X_train.csv', index=False, sep=';')\n",
    "X_test.to_csv('X_test.csv', index=False, sep=';')\n",
    "y_train.to_csv('y_train.csv', index=False, sep=';')"
   ]
  }
 ],
 "metadata": {
  "kernelspec": {
   "display_name": "base",
   "language": "python",
   "name": "python3"
  },
  "language_info": {
   "codemirror_mode": {
    "name": "ipython",
    "version": 3
   },
   "file_extension": ".py",
   "mimetype": "text/x-python",
   "name": "python",
   "nbconvert_exporter": "python",
   "pygments_lexer": "ipython3",
   "version": "3.12.3"
  }
 },
 "nbformat": 4,
 "nbformat_minor": 2
}
